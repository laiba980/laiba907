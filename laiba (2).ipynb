{
 "cells": [
  {
   "cell_type": "code",
   "execution_count": 1,
   "id": "ddbea1fc",
   "metadata": {},
   "outputs": [],
   "source": [
    "import numpy as np\n",
    "import matplotlib.pyplot as plt"
   ]
  },
  {
   "cell_type": "code",
   "execution_count": 2,
   "id": "fb4bfedb",
   "metadata": {},
   "outputs": [],
   "source": [
    "a1 = np.array([10,20,30,40])"
   ]
  },
  {
   "cell_type": "markdown",
   "id": "b2863f66",
   "metadata": {},
   "source": []
  },
  {
   "cell_type": "code",
   "execution_count": 4,
   "id": "32d6082e",
   "metadata": {},
   "outputs": [
    {
     "data": {
      "text/plain": [
       "array([ 1000,  8000, 27000, 64000], dtype=int32)"
      ]
     },
     "execution_count": 4,
     "metadata": {},
     "output_type": "execute_result"
    }
   ],
   "source": [
    "a1**3"
   ]
  },
  {
   "cell_type": "code",
   "execution_count": 7,
   "id": "0cfcd5cc",
   "metadata": {},
   "outputs": [],
   "source": [
    "a2 = np.zeros(9)"
   ]
  },
  {
   "cell_type": "markdown",
   "id": "90d0a35a",
   "metadata": {},
   "source": [
    " "
   ]
  },
  {
   "cell_type": "code",
   "execution_count": 8,
   "id": "8830cf90",
   "metadata": {},
   "outputs": [
    {
     "data": {
      "text/plain": [
       "array([0., 0., 0., 0., 0., 0., 0., 0., 0.])"
      ]
     },
     "execution_count": 8,
     "metadata": {},
     "output_type": "execute_result"
    }
   ],
   "source": [
    "a2"
   ]
  },
  {
   "cell_type": "code",
   "execution_count": 10,
   "id": "a3359416",
   "metadata": {},
   "outputs": [],
   "source": [
    "x = np.linspace(-9,9,90)\n",
    "y = x-np.exp(x)"
   ]
  },
  {
   "cell_type": "code",
   "execution_count": 11,
   "id": "bc648b21",
   "metadata": {},
   "outputs": [
    {
     "data": {
      "text/plain": [
       "array([-9.        , -8.79775281, -8.59550562, -8.39325843, -8.19101124,\n",
       "       -7.98876404, -7.78651685, -7.58426966, -7.38202247, -7.17977528,\n",
       "       -6.97752809, -6.7752809 , -6.57303371, -6.37078652, -6.16853933,\n",
       "       -5.96629213, -5.76404494, -5.56179775, -5.35955056, -5.15730337,\n",
       "       -4.95505618, -4.75280899, -4.5505618 , -4.34831461, -4.14606742,\n",
       "       -3.94382022, -3.74157303, -3.53932584, -3.33707865, -3.13483146,\n",
       "       -2.93258427, -2.73033708, -2.52808989, -2.3258427 , -2.12359551,\n",
       "       -1.92134831, -1.71910112, -1.51685393, -1.31460674, -1.11235955,\n",
       "       -0.91011236, -0.70786517, -0.50561798, -0.30337079, -0.1011236 ,\n",
       "        0.1011236 ,  0.30337079,  0.50561798,  0.70786517,  0.91011236,\n",
       "        1.11235955,  1.31460674,  1.51685393,  1.71910112,  1.92134831,\n",
       "        2.12359551,  2.3258427 ,  2.52808989,  2.73033708,  2.93258427,\n",
       "        3.13483146,  3.33707865,  3.53932584,  3.74157303,  3.94382022,\n",
       "        4.14606742,  4.34831461,  4.5505618 ,  4.75280899,  4.95505618,\n",
       "        5.15730337,  5.35955056,  5.56179775,  5.76404494,  5.96629213,\n",
       "        6.16853933,  6.37078652,  6.57303371,  6.7752809 ,  6.97752809,\n",
       "        7.17977528,  7.38202247,  7.58426966,  7.78651685,  7.98876404,\n",
       "        8.19101124,  8.39325843,  8.59550562,  8.79775281,  9.        ])"
      ]
     },
     "execution_count": 11,
     "metadata": {},
     "output_type": "execute_result"
    }
   ],
   "source": [
    "x"
   ]
  },
  {
   "cell_type": "code",
   "execution_count": 13,
   "id": "4591086a",
   "metadata": {},
   "outputs": [
    {
     "data": {
      "text/plain": [
       "Text(0, 0.5, 'rafique')"
      ]
     },
     "execution_count": 13,
     "metadata": {},
     "output_type": "execute_result"
    },
    {
     "data": {
      "image/png": "[encoded data removed]",
      "text/plain": [
       "<Figure size 432x288 with 1 Axes>"
      ]
     },
     "metadata": {
      "needs_background": "light"
     },
     "output_type": "display_data"
    }
   ],
   "source": [
    "plt.plot(x,y)\n",
    "plt.grid()\n",
    "plt.xlabel('laiba',fontsize=10)\n",
    "plt.ylabel('rafique',fontsize=10)"
   ]
  },
  {
   "cell_type": "code",
   "execution_count": 16,
   "id": "ca24548c",
   "metadata": {},
   "outputs": [],
   "source": [
    "x1 = np.arange(2,4,6)"
   ]
  },
  {
   "cell_type": "code",
   "execution_count": 17,
   "id": "83669419",
   "metadata": {},
   "outputs": [
    {
     "data": {
      "text/plain": [
       "array([2])"
      ]
     },
     "execution_count": 17,
     "metadata": {},
     "output_type": "execute_result"
    }
   ],
   "source": [
    "x1[:8]"
   ]
  },
  {
   "cell_type": "code",
   "execution_count": 19,
   "id": "ca7fff85",
   "metadata": {},
   "outputs": [
    {
     "data": {
      "text/plain": [
       "range(0, 10)"
      ]
     },
     "execution_count": 19,
     "metadata": {},
     "output_type": "execute_result"
    }
   ],
   "source": [
    "a = 20\n",
    "range(10)"
   ]
  },
  {
   "cell_type": "code",
   "execution_count": 20,
   "id": "8e6836f5",
   "metadata": {},
   "outputs": [
    {
     "name": "stdout",
     "output_type": "stream",
     "text": [
      "0\n",
      "1\n",
      "2\n",
      "3\n",
      "4\n",
      "5\n",
      "6\n",
      "7\n",
      "8\n",
      "9\n",
      "10\n",
      "11\n",
      "12\n",
      "13\n",
      "14\n",
      "15\n",
      "16\n",
      "17\n",
      "18\n",
      "19\n"
     ]
    }
   ],
   "source": [
    "for i in range (a):\n",
    "    print(i)"
   ]
  },
  {
   "cell_type": "code",
   "execution_count": 21,
   "id": "a9ecee20",
   "metadata": {},
   "outputs": [],
   "source": [
    "Ist = ['emaan','zoya','hooria','laiba','mohib','ahmed','marwa']"
   ]
  },
  {
   "cell_type": "code",
   "execution_count": 23,
   "id": "b5c12cb0",
   "metadata": {},
   "outputs": [
    {
     "name": "stdout",
     "output_type": "stream",
     "text": [
      "emaan\n",
      "zoya\n",
      "hooria\n",
      "laiba\n",
      "mohib\n",
      "ahmed\n",
      "marwa\n"
     ]
    }
   ],
   "source": [
    "for i in Ist:\n",
    "    print(i)"
   ]
  },
  {
   "cell_type": "code",
   "execution_count": null,
   "id": "aeeb1f64",
   "metadata": {},
   "outputs": [],
   "source": []
  }
 ],
 "metadata": {
  "kernelspec": {
   "display_name": "Python 3 (ipykernel)",
   "language": "python",
   "name": "python3"
  },
  "language_info": {
   "codemirror_mode": {
    "name": "ipython",
    "version": 3
   },
   "file_extension": ".py",
   "mimetype": "text/x-python",
   "name": "python",
   "nbconvert_exporter": "python",
   "pygments_lexer": "ipython3",
   "version": "3.9.7"
  }
 },
 "nbformat": 4,
 "nbformat_minor": 5
}
